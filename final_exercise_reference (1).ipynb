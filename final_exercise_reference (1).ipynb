{
 "cells": [
  {
   "cell_type": "code",
   "execution_count": null,
   "id": "a65ccb3c-eb22-4314-94ac-5ffcfaf5ee23",
   "metadata": {},
   "outputs": [],
   "source": [
    "import geopandas as gpd\n",
    "import pandas as pd\n",
    "import contextily as ctx\n",
    "import pathlib\n",
    "import numpy as np\n",
    "import networkx\n",
    "from matplotlib import pyplot as plt\n",
    "from shapely.geometry import Point, Polygon, LineString"
   ]
  },
  {
   "cell_type": "markdown",
   "id": "e2bb7c01-a6bb-4269-8ca5-577a0d504057",
   "metadata": {},
   "source": [
    "# Storm Forecasts & Track\n",
    "Storm forecasts and historical track will be published for each in-game day.\n",
    "\n",
    "The forecasts represent model predictions for where the hurricane might be at the given timestamp.\n",
    "\n",
    "The storm track represents the true path that the storm took in the past."
   ]
  },
  {
   "cell_type": "code",
   "execution_count": null,
   "id": "26cce470-9dab-4833-a5f6-c26bd082e719",
   "metadata": {},
   "outputs": [],
   "source": [
    "# Forecasts\n",
    "day1_forecast = gpd.read_file('https://files.bwsi-remote-sensing.net/data/final/day1/day1_forecasts_2023.geojson')"
   ]
  },
  {
   "cell_type": "code",
   "execution_count": null,
   "id": "523f6854-bc45-4979-8bd2-e1631164f688",
   "metadata": {},
   "outputs": [],
   "source": [
    "random_color = lambda: np.random.random(3)"
   ]
  },
  {
   "cell_type": "code",
   "execution_count": null,
   "id": "ad934fec-cd7c-43be-b0e4-444f613a8fdb",
   "metadata": {},
   "outputs": [],
   "source": [
    "# look at the forecasts\n",
    "day1_forecast"
   ]
  },
  {
   "cell_type": "code",
   "execution_count": null,
   "id": "2b1263bc-21e9-410c-aa8a-ba698f333ef7",
   "metadata": {},
   "outputs": [],
   "source": [
    "# each forecast report has a number of possible hurricane routes\n",
    "# they are identified by the prediction column\n",
    "fig, ax = plt.subplots(1, 1, figsize=(10,10))\n",
    "for pred_id, pred in day1_forecast.groupby('prediction'):\n",
    "    c = random_color()\n",
    "    pred.plot(color=c, ax=ax)\n",
    "    line_to_plot = LineString(pred.geometry.values)\n",
    "    ax.plot(line_to_plot.xy[0], line_to_plot.xy[1], color=c, label=f'{pred_id}')\n",
    "ax.legend(title='prediction id')"
   ]
  },
  {
   "cell_type": "code",
   "execution_count": null,
   "id": "8ec4b611-019e-4bda-a7a1-faf77312ee5b",
   "metadata": {},
   "outputs": [],
   "source": [
    "# track shows where the storm actually went in the past\n",
    "day1_track = gpd.read_file('https://files.bwsi-remote-sensing.net/data/final/day1/day1_track_past.geojson')\n",
    "day1_track.plot()"
   ]
  },
  {
   "cell_type": "markdown",
   "id": "b1aeccfb-65f7-4776-b023-5908ef48dcdc",
   "metadata": {},
   "source": [
    "# Location of Areas of Interest\n"
   ]
  },
  {
   "cell_type": "code",
   "execution_count": null,
   "id": "69036c46-dccd-4df4-9979-da14568cd105",
   "metadata": {},
   "outputs": [],
   "source": [
    "!wget https://files.bwsi-remote-sensing.net/data/final/R1-Hospitals.zip -O R1-Hospitals.zip\n",
    "!unzip R1-Hospitals.zip"
   ]
  },
  {
   "cell_type": "code",
   "execution_count": null,
   "id": "904bf8bb-5b09-497a-b529-ddf791b01fa4",
   "metadata": {},
   "outputs": [],
   "source": [
    "!wget https://files.bwsi-remote-sensing.net/data/final/R1-Shelters.zip -O R1-Shelters.zip\n",
    "!unzip R1-Shelters.zip"
   ]
  },
  {
   "cell_type": "code",
   "execution_count": null,
   "id": "8d20f93c-1736-4fc9-858e-c204de38d680",
   "metadata": {},
   "outputs": [],
   "source": [
    "hospitals_gdf = gpd.read_file('R1-Hospitals/')\n",
    "shelters_gdf = gpd.read_file('R1-Shelters/')"
   ]
  },
  {
   "cell_type": "code",
   "execution_count": null,
   "id": "1c93c4bd-6124-4b16-907e-ed8d595020bd",
   "metadata": {},
   "outputs": [],
   "source": [
    "hospitals_gdf"
   ]
  },
  {
   "cell_type": "code",
   "execution_count": null,
   "id": "8b1c002c-ec0a-4bda-a264-cce9741a8521",
   "metadata": {},
   "outputs": [],
   "source": [
    "shelters_gdf"
   ]
  },
  {
   "cell_type": "markdown",
   "id": "7e954a04-60f1-402d-bec7-4047a98cce43",
   "metadata": {},
   "source": [
    "# Game Grid\n",
    "This is the grid that represents the scope of the response, and also the transportation network\n",
    "It uses the [Military Grid Reference System](https://en.wikipedia.org/wiki/Military_Grid_Reference_System) to divide the world into a grid. There is a unique alphanumeric string that identifies each cell. We are working at the 1km resolution of the grid. See also the [US National Grid](https://www.fgdc.gov/usng/how-to-read-usng) which is nearly identical, except for some [edge-cases](https://www.maptools.com/tutorials/mgrs_usng_diffs).\n",
    "\n",
    "The `MGRS` column is a unique alphanumeric ID for each cell. It should be used as your node ID for your transport network."
   ]
  },
  {
   "cell_type": "code",
   "execution_count": null,
   "id": "ce68488d-b207-4723-ab6e-e434fbb32432",
   "metadata": {},
   "outputs": [],
   "source": [
    "# downloading pre-hurricane game grid (pretty big file ~ 111 MB)\n",
    "!wget https://files.bwsi-remote-sensing.net/data/final/game_grid_2022.geojson"
   ]
  },
  {
   "cell_type": "code",
   "execution_count": null,
   "id": "540c3521-b17c-48d2-88f2-5bd6fb17a6e4",
   "metadata": {},
   "outputs": [],
   "source": [
    "game_grid = gpd.read_file('game_grid_2023.geojson')"
   ]
  },
  {
   "cell_type": "code",
   "execution_count": null,
   "id": "623f58b1-d248-45d6-8eb7-871360db161e",
   "metadata": {},
   "outputs": [],
   "source": [
    "game_grid"
   ]
  },
  {
   "cell_type": "markdown",
   "id": "e1891e83-7eea-42b2-9146-c94b74c57501",
   "metadata": {},
   "source": [
    "## Overall bounds of map\n",
    "Useful for all teams to find additional GIS and remote sensing resources to use"
   ]
  },
  {
   "cell_type": "code",
   "execution_count": null,
   "id": "6ce9a5e3-0a47-4789-b3e1-891da8dc32d4",
   "metadata": {},
   "outputs": [],
   "source": [
    "w,s,e,n = game_grid.total_bounds\n",
    "print(w,s,e,n)"
   ]
  },
  {
   "cell_type": "markdown",
   "id": "d6f7aecd-82ab-4514-b65b-ee46067300b5",
   "metadata": {},
   "source": [
    "## Get the cells neighboring each cell\n",
    "Buffer and use spatial join with `overlap` to find which cells are neighboring each other"
   ]
  },
  {
   "cell_type": "code",
   "execution_count": null,
   "id": "39e8cde5-0fec-46a2-8749-011a67f835f2",
   "metadata": {},
   "outputs": [],
   "source": [
    "buffered_game_grid = game_grid.to_crs('epsg:3857')\n",
    "buffered_game_grid.geometry = buffered_game_grid.buffer(10)\n",
    "neighboring_gdf = gpd.sjoin(buffered_game_grid, game_grid.to_crs('epsg:3857'), predicate='overlaps')"
   ]
  },
  {
   "cell_type": "code",
   "execution_count": null,
   "id": "1327bc14-36e2-4510-9f08-7e1ba595066e",
   "metadata": {},
   "outputs": [],
   "source": [
    "neighboring_gdf"
   ]
  },
  {
   "cell_type": "markdown",
   "id": "80e4908b-b641-4f46-b46a-f62f06a1b9ec",
   "metadata": {},
   "source": [
    "## Create network representation"
   ]
  },
  {
   "cell_type": "code",
   "execution_count": null,
   "id": "2aa491ef-9d0e-47f8-9faa-fbd54f5052d2",
   "metadata": {},
   "outputs": [],
   "source": [
    "transport_network = networkx.DiGraph()\n",
    "transport_network.add_nodes_from(game_grid['MGRS']) #add nodes, 1 for every entry of MGRS\n",
    "# calculate travel time as an edge feature\n",
    "neighboring_gdf['travel_time'] = 20/ (neighboring_gdf['transport_score_left'] + neighboring_gdf['transport_score_right'])\n",
    "# create edges from (origin, destination, travel_time)\n",
    "transport_network.add_weighted_edges_from(zip(neighboring_gdf['MGRS_left'], neighboring_gdf['MGRS_right'], neighboring_gdf['travel_time']))"
   ]
  },
  {
   "cell_type": "code",
   "execution_count": null,
   "id": "9f74be07-5fad-4899-990c-0cfeddcbfa34",
   "metadata": {},
   "outputs": [],
   "source": [
    "networkx.write_graphml(transport_network, 'transport_network_pre.graphml')"
   ]
  },
  {
   "cell_type": "code",
   "execution_count": null,
   "id": "a70aa40d-6729-4ddb-ae11-938d0dd65889",
   "metadata": {},
   "outputs": [],
   "source": [
    "transport_network_loaded = networkx.read_graphml('transport_network_pre.graphml')"
   ]
  },
  {
   "cell_type": "markdown",
   "id": "dec2de0d-bef1-4a4a-88db-a03a163573dd",
   "metadata": {},
   "source": [
    "## Visualizing the transport score\n",
    "Highways and major roads have highest transport score. Rural areas have lowest transport score. Cities have intermediate transport score to model local roads"
   ]
  },
  {
   "cell_type": "code",
   "execution_count": null,
   "id": "72384b86-c057-47d1-b230-01a00c37e2db",
   "metadata": {},
   "outputs": [],
   "source": [
    "fig, ax = plt.subplots(1, 1, figsize=(10,10))\n",
    "game_grid.plot(column='transport_score', ax=ax)\n",
    "plt.show()"
   ]
  },
  {
   "cell_type": "code",
   "execution_count": null,
   "id": "2153a565-4e9d-4842-867c-9b4226524cb7",
   "metadata": {},
   "outputs": [],
   "source": [
    "# plotting a route\n",
    "def plot_route(game_grid, transport_network, route, ax, buffer=0.01, color=None):\n",
    "    '''\n",
    "    plots a route on the game_grid network\n",
    "    \n",
    "    game_grid: gdf of the game grid\n",
    "    transport_network: networkx object representing network\n",
    "    route: list of MGRS ID's of shelters in order of the route\n",
    "    buffer: how much to buffer the routes for visibility\n",
    "    ax: matplotlib axes object to plot on\n",
    "    color: color of the route to plot\n",
    "    '''\n",
    "    if color == None:\n",
    "        color = np.random.random(3)\n",
    "    full_route = []\n",
    "    for idx in range(len(route)-1):\n",
    "        orig = route[idx]\n",
    "        dest = route[idx+1]\n",
    "        full_route = full_route + networkx.astar_path(transport_network, orig, dest)\n",
    "    game_grid.set_index('MGRS').loc[full_route].buffer(buffer).plot(ax=ax, color=color)"
   ]
  },
  {
   "cell_type": "code",
   "execution_count": null,
   "id": "3af1d6c2-4097-4122-8e85-8048877925ed",
   "metadata": {},
   "outputs": [],
   "source": [
    "# example of plotting transport score and route\n",
    "fig = plt.figure(figsize=(10,10))\n",
    "ax = fig.add_subplot(1,1,1)\n",
    "game_grid.plot(column='transport_score', cmap='Greys', alpha=0.8, ax=ax)\n",
    "#plotting for random origin and destination for reference\n",
    "plot_route(game_grid,\n",
    "           transport_network, \n",
    "           [np.random.choice(game_grid['MGRS']),\n",
    "            np.random.choice(game_grid['MGRS'])],\n",
    "           ax=ax,\n",
    "           buffer=0.01)\n",
    "ctx.add_basemap(ax,\n",
    "                crs=game_grid.crs,\n",
    "                source=ctx.providers.Stamen.TonerBackground)\n",
    "ax.set_xlim([w,e]) # from overall bounds\n",
    "ax.set_ylim([s,n])\n",
    "plt.show()"
   ]
  },
  {
   "cell_type": "code",
   "execution_count": null,
   "id": "133ffd08-8d9a-4613-ad1c-b6db70fb425a",
   "metadata": {},
   "outputs": [],
   "source": []
  }
 ],
 "metadata": {
  "kernelspec": {
   "display_name": "Python 3 (ipykernel)",
   "language": "python",
   "name": "python3"
  },
  "language_info": {
   "codemirror_mode": {
    "name": "ipython",
    "version": 3
   },
   "file_extension": ".py",
   "mimetype": "text/x-python",
   "name": "python",
   "nbconvert_exporter": "python",
   "pygments_lexer": "ipython3",
   "version": "3.11.4"
  }
 },
 "nbformat": 4,
 "nbformat_minor": 5
}
